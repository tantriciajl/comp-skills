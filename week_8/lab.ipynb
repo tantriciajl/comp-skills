{
 "cells": [
  {
   "cell_type": "markdown",
   "metadata": {},
   "source": [
    "__1) Edit the code that you have written to calculate the integral of the polynomial [2 ½ marks]__"
   ]
  },
  {
   "cell_type": "code",
   "execution_count": 1,
   "metadata": {},
   "outputs": [
    {
     "name": "stdout",
     "output_type": "stream",
     "text": [
      "\n",
      "1)a) The integral of p(x) is 23.008.\n",
      "\n",
      "b) The integral using left rectangular integration is 21.851.\n",
      "\n",
      "c) The integral using trapezium integration is 23.026.\n",
      "\n",
      "e) The integral using SciPy's Simpson's rule function is 23.008.\n"
     ]
    },
    {
     "name": "stderr",
     "output_type": "stream",
     "text": [
      "C:\\Users\\Tricia\\AppData\\Local\\Temp\\ipykernel_17768\\1988772073.py:31: DeprecationWarning: 'scipy.integrate.simps' is deprecated in favour of 'scipy.integrate.simpson' and will be removed in SciPy 1.14.0\n",
      "  m = integrate.simps(y, dx = x[1] - x[0])\n"
     ]
    }
   ],
   "source": [
    "from pylab import *\n",
    "\n",
    "# create polynomial\n",
    "x = linspace(-1.5, 2.5, 101)\n",
    "p = poly1d([3, -4, -7, 1, 2, 10])\n",
    "y = p(x)\n",
    "\n",
    "# integrate polynomial using polyint()\n",
    "q = polyint(p)\n",
    "s = q(x)\n",
    "\n",
    "print(\"\\n1)a) The integral of p(x) is %.3f.\" % (s[-1] - s[0]) )\n",
    "\n",
    "# integrate using left rectangle \n",
    "dx = x[1] - x[0]\n",
    "rect_left = dx * y\n",
    "rect_left[-1] = 0 \n",
    "print(\"\\nb) The integral using left rectangular integration is %.3f.\" % sum(rect_left) )\n",
    "\n",
    "# integrate using trapezium integration\n",
    "w_trap = ones_like(y)\n",
    "w_trap[0] = 0.5\n",
    "w_trap[-1] = 0.5\n",
    "w_trap2 = dx * sum(w_trap * y)\n",
    "\n",
    "print(\"\\nc) The integral using trapezium integration is %.3f.\" % w_trap2 )\n",
    "\n",
    "# integrate using Simpson's rule (SciPy)\n",
    "from scipy import integrate\n",
    "\n",
    "m = integrate.simps(y, dx = x[1] - x[0])\n",
    "\n",
    "print(\"\\ne) The integral using SciPy's Simpson's rule function is %.3f.\" % m)"
   ]
  },
  {
   "cell_type": "markdown",
   "metadata": {},
   "source": [
    "__2) Generate a figure with 2 subplots. [1 mark]__"
   ]
  },
  {
   "cell_type": "code",
   "execution_count": null,
   "metadata": {},
   "outputs": [],
   "source": [
    "\n",
    "# plot p(x) and its integral\n",
    "subplot(2,1,1)\n",
    "plot(x, p(x), label = '3x^5 - 4x^4 -7x^3 + x^2 + 2x + 10')\n",
    "title('p(x)')\n",
    "legend(loc='best')\n",
    "grid()\n",
    "\n",
    "subplot(2,1,2)\n",
    "plot(x, q(x), label = 'using polyint()')\n",
    "title('Integral of p(x)')\n",
    "\n",
    "\n",
    "# calculate integral using cumtrapz\n",
    "r = integrate.cumtrapz(y, dx = x[1] - x[0])\n",
    "plot(x[0:99], r, label = 'using cumtrapz')\n",
    "legend(loc='best')\n",
    "grid()"
   ]
  },
  {
   "cell_type": "markdown",
   "metadata": {},
   "source": [
    "__3) A Gaussian distribution with zero mean and unit variance is given by [1 ½ marks]__"
   ]
  },
  {
   "cell_type": "code",
   "execution_count": null,
   "metadata": {},
   "outputs": [],
   "source": [
    "x = linspace(-1, 1, 100)\n",
    "y = e ** (0.5 * (-x)**2)\n",
    "\n",
    "plot(x, y)\n",
    "title(\"A Gaussian Distribution\")\n",
    "grid()\n",
    "\n",
    "q = polyint(y)\n",
    "figure()\n",
    "plot(x, q)"
   ]
  }
 ],
 "metadata": {
  "kernelspec": {
   "display_name": "Python 3",
   "language": "python",
   "name": "python3"
  },
  "language_info": {
   "codemirror_mode": {
    "name": "ipython",
    "version": 3
   },
   "file_extension": ".py",
   "mimetype": "text/x-python",
   "name": "python",
   "nbconvert_exporter": "python",
   "pygments_lexer": "ipython3",
   "version": "3.11.7"
  }
 },
 "nbformat": 4,
 "nbformat_minor": 2
}
